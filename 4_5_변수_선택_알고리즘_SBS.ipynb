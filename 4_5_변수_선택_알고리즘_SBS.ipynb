{
  "nbformat": 4,
  "nbformat_minor": 0,
  "metadata": {
    "colab": {
      "provenance": [],
      "toc_visible": true,
      "gpuType": "T4",
      "authorship_tag": "ABX9TyNmiOTBOp12w25GNRqyzUBp",
      "include_colab_link": true
    },
    "kernelspec": {
      "name": "python3",
      "display_name": "Python 3"
    },
    "language_info": {
      "name": "python"
    },
    "accelerator": "GPU"
  },
  "cells": [
    {
      "cell_type": "markdown",
      "metadata": {
        "id": "view-in-github",
        "colab_type": "text"
      },
      "source": [
        "<a href=\"https://colab.research.google.com/github/Eungyum/scikit-learn_study/blob/main/4_5_%EB%B3%80%EC%88%98_%EC%84%A0%ED%83%9D_%EC%95%8C%EA%B3%A0%EB%A6%AC%EC%A6%98_SBS.ipynb\" target=\"_parent\"><img src=\"https://colab.research.google.com/assets/colab-badge.svg\" alt=\"Open In Colab\"/></a>"
      ]
    },
    {
      "cell_type": "markdown",
      "source": [
        "# SBS(Sequential Backward Selection) 알고리즘"
      ],
      "metadata": {
        "id": "jWGxRgLdZVo8"
      }
    },
    {
      "cell_type": "code",
      "source": [
        "from sklearn.base import clone\n",
        "from itertools import combinations\n",
        "import numpy as np\n",
        "from sklearn.metrics import accuracy_score\n",
        "from sklearn.model_selection import train_test_split"
      ],
      "metadata": {
        "id": "BdP2boLdZZRm"
      },
      "execution_count": null,
      "outputs": []
    },
    {
      "cell_type": "code",
      "source": [
        "class SBS():\n",
        "    def __init__(self, estimator, k_features,\n",
        "                scoring=accuracy_score,\n",
        "                test_size=0.25, random_state=1):\n",
        "        self.scoring = scoring\n",
        "        self.estimator=clone(estimator)\n",
        "        self.k_features=k_features\n",
        "        self.test_size=test_size\n",
        "        self.random_state=random_state\n",
        "\n",
        "    def fit(self, X, y):\n",
        "\n",
        "        X_train, X_test, y_train, y_test = train_test_split(X, y, test_size=self.test_size, random_state=self.random_state)\n",
        "        dim = X_train.shape[1]\n",
        "        self.indices_ = tuple(range(dim))\n",
        "        self.subsets_ = [self.indices_]\n",
        "        score = self._calc_score(X_train, y_train, X_test, y_test, self.indices_)\n",
        "        self.scores_ = [score]\n",
        "\n",
        "        while dim > self.k_features:\n",
        "            scores =[]\n",
        "            subsets = []\n",
        "\n",
        "            for p in combinations(self.indices_, r=dim-1):\n",
        "                score = self._calc_score(X_train, y_train, X_test, y_test, p)\n",
        "                scores.append(score)\n",
        "                subsets.append(p)\n",
        "\n",
        "            best = np.argmax(scores)\n",
        "            self.indices_ = subsets[best]\n",
        "            self.subsets_.append(self.indices_)\n",
        "            dim -= 1\n",
        "            self.scores_.append(scores[best])\n",
        "\n",
        "        self.k_score_ = self.scores_[-1]\n",
        "        return self\n",
        "\n",
        "    def transform(self, X):\n",
        "        return X[:, self.indices_]\n",
        "\n",
        "    def _calc_score(self, X_train, y_train, X_test, y_test, indices):\n",
        "        self.estimator.fit(X_train[:,indices], y_train)\n",
        "        y_pred = self.estimator.predict(X_test[:,indices])\n",
        "        score = self.scoring(y_test, y_pred)\n",
        "        return score"
      ],
      "metadata": {
        "id": "vUF5i1wKZbGr"
      },
      "execution_count": null,
      "outputs": []
    },
    {
      "cell_type": "code",
      "source": [
        "import matplotlib.pyplot as plt\n",
        "from sklearn.neighbors import KNeighborsClassifier"
      ],
      "metadata": {
        "id": "g0bNUqyxZex1"
      },
      "execution_count": null,
      "outputs": []
    },
    {
      "cell_type": "code",
      "source": [
        "knn = KNeighborsClassifier(n_neighbors=4)"
      ],
      "metadata": {
        "id": "wLKyotc7ZoEO"
      },
      "execution_count": null,
      "outputs": []
    },
    {
      "cell_type": "code",
      "source": [
        "sbs = SBS(knn, k_features=1)"
      ],
      "metadata": {
        "id": "-jqnPPq4Zpkj"
      },
      "execution_count": null,
      "outputs": []
    },
    {
      "cell_type": "code",
      "source": [
        "from sklearn.preprocessing import StandardScaler\n",
        "import pandas as pd\n",
        "df_wine = pd.read_csv('https://archive.ics.uci.edu/ml/machine-learning-databases/wine/wine.data')\n",
        "df_wine.columns = ['Class label','Alcohole','Mlic acid','Ash','Alcalinity of ash','Magnesium',\n",
        "                  'Total phenols','Flavanoids','Nonflavanoid phenols','Proanthocyanins',\n",
        "                  'Color intensity','Hue','0D280/0D315 of diluted wines','Proline']\n",
        "X = df_wine.iloc[:,1:].values # 특성은 0을 제외한 모든 열\n",
        "y = df_wine.iloc[:,0].values # 타겟은 0열\n",
        "\n",
        "X_train, X_test, y_train, y_test =\\\n",
        "train_test_split(X, y,\n",
        "                 test_size=0.3,\n",
        "                 random_state=0,\n",
        "                 stratify=y)\n",
        "sc = StandardScaler()\n",
        "sc.fit(X_train) # 훈련 데이터셋의 샘플 평균과 표준편차를 계산\n",
        "X_train_std = sc.transform(X_train) # transform 메서드에서 계산된 샘플 평균과 표준편차로 표준화\n",
        "X_test_std = sc.transform(X_test)"
      ],
      "metadata": {
        "id": "M4wkgRS_ZsMN"
      },
      "execution_count": null,
      "outputs": []
    },
    {
      "cell_type": "code",
      "source": [
        "sbs.fit(X_train_std, y_train)"
      ],
      "metadata": {
        "colab": {
          "base_uri": "https://localhost:8080/"
        },
        "id": "HvG_qDRYZubO",
        "outputId": "da8d4e5a-8a66-42ce-dd07-536fcf80f37b"
      },
      "execution_count": null,
      "outputs": [
        {
          "output_type": "execute_result",
          "data": {
            "text/plain": [
              "<__main__.SBS at 0x78acae202800>"
            ]
          },
          "metadata": {},
          "execution_count": 7
        }
      ]
    },
    {
      "cell_type": "code",
      "source": [
        "k_feat = [len(k) for k in sbs.subsets_]"
      ],
      "metadata": {
        "id": "U8lkr4OcZwY7"
      },
      "execution_count": null,
      "outputs": []
    },
    {
      "cell_type": "code",
      "source": [
        "plt.plot(k_feat, sbs.scores_, marker='o')\n",
        "plt.ylim([0.7, 1.02])\n",
        "plt.ylabel('Accuracy')\n",
        "plt.xlabel('Number of features')\n",
        "plt.grid()\n",
        "plt.tight_layout()\n",
        "plt.show()"
      ],
      "metadata": {
        "colab": {
          "base_uri": "https://localhost:8080/",
          "height": 487
        },
        "id": "-Ut0MKy2Zxqb",
        "outputId": "55dade72-52db-4ff7-c032-fc2158806261"
      },
      "execution_count": null,
      "outputs": [
        {
          "output_type": "display_data",
          "data": {
            "text/plain": [
              "<Figure size 640x480 with 1 Axes>"
            ],
            "image/png": "[encoded data removed]"
          },
          "metadata": {}
        }
      ]
    },
    {
      "cell_type": "code",
      "source": [
        "k4 = list(sbs.subsets_[10])\n",
        "print(df_wine.columns[1:][k4])"
      ],
      "metadata": {
        "colab": {
          "base_uri": "https://localhost:8080/"
        },
        "id": "3MEyNc0uZy7J",
        "outputId": "12855d81-3c1a-40e0-8a2a-2ea56464dd11"
      },
      "execution_count": null,
      "outputs": [
        {
          "output_type": "stream",
          "name": "stdout",
          "text": [
            "Index(['Alcohole', '0D280/0D315 of diluted wines', 'Proline'], dtype='object')\n"
          ]
        }
      ]
    },
    {
      "cell_type": "code",
      "source": [],
      "metadata": {
        "id": "g9CF2GuCZ00F"
      },
      "execution_count": null,
      "outputs": []
    }
  ]
}