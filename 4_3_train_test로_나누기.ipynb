{
  "nbformat": 4,
  "nbformat_minor": 0,
  "metadata": {
    "colab": {
      "provenance": [],
      "toc_visible": true,
      "authorship_tag": "ABX9TyOaek+VTGbnllfhFKbXYlZy",
      "include_colab_link": true
    },
    "kernelspec": {
      "name": "python3",
      "display_name": "Python 3"
    },
    "language_info": {
      "name": "python"
    }
  },
  "cells": [
    {
      "cell_type": "markdown",
      "metadata": {
        "id": "view-in-github",
        "colab_type": "text"
      },
      "source": [
        "<a href=\"https://colab.research.google.com/github/Eungyum/scikit-learn_study/blob/main/4_3_train_test%EB%A1%9C_%EB%82%98%EB%88%84%EA%B8%B0.ipynb\" target=\"_parent\"><img src=\"https://colab.research.google.com/assets/colab-badge.svg\" alt=\"Open In Colab\"/></a>"
      ]
    },
    {
      "cell_type": "markdown",
      "source": [
        "# 사이킷런 model_selection"
      ],
      "metadata": {
        "id": "TI0wHiLnSjle"
      }
    },
    {
      "cell_type": "code",
      "source": [],
      "metadata": {
        "id": "L86V-J96SsgH"
      },
      "execution_count": null,
      "outputs": []
    },
    {
      "cell_type": "markdown",
      "source": [
        "## 모듈 및 데이터셋 로딩\n",
        "\n",
        "- wine 데이터\n",
        "- 목적 변수 : 'Class label'"
      ],
      "metadata": {
        "id": "26cYsspOSuOn"
      }
    },
    {
      "cell_type": "code",
      "source": [
        "import pandas as pd\n",
        "import numpy as np\n",
        "df_wine = pd.read_csv('https://archive.ics.uci.edu/ml/machine-learning-databases/wine/wine.data')\n",
        "df_wine.columns = ['Class label','Alcohole','Mlic acid','Ash','Alcalinity of ash','Magnesium',\n",
        "                  'Total phenols','Flavanoids','Nonflavanoid phenols','Proanthocyanins',\n",
        "                  'Color intensity','Hue','0D280/0D315 of diluted wines','Proline']"
      ],
      "metadata": {
        "id": "WBDF2y_pSwQ4"
      },
      "execution_count": null,
      "outputs": []
    },
    {
      "cell_type": "markdown",
      "source": [
        "## 나누기"
      ],
      "metadata": {
        "id": "MRMoD-iSTY09"
      }
    },
    {
      "cell_type": "code",
      "source": [
        "from sklearn.model_selection import train_test_split\n",
        "\n",
        "# X: features, y: target\n",
        "X = df_wine.iloc[:,1:].values # target을 제외한 모든 변수\n",
        "y = df_wine.iloc[:,0].values # Class label\n",
        "\n",
        "# 나누기\n",
        "X_train, X_test, y_train, y_test =train_test_split(X, # 설명변수(feature)\n",
        "                                                   y, # 목적변수(target)\n",
        "                                                   test_size=0.3, # 테스트 세트 비율\n",
        "                                                   random_state=0, # 랜덤시드\n",
        "                                                   stratify=y) # y일 경우 분할할 때 각 클래스의 비율을 유지\n",
        "\n",
        "# 확인\n",
        "X_train.shape, y_train.shape, X_test.shape, y_test.shape"
      ],
      "metadata": {
        "colab": {
          "base_uri": "https://localhost:8080/"
        },
        "id": "8ZvEeH3XTa5I",
        "outputId": "1c7603e7-002b-467d-da2b-e2dec59001ec"
      },
      "execution_count": null,
      "outputs": [
        {
          "output_type": "execute_result",
          "data": {
            "text/plain": [
              "((123, 13), (123,), (54, 13), (54,))"
            ]
          },
          "metadata": {},
          "execution_count": 2
        }
      ]
    },
    {
      "cell_type": "code",
      "source": [],
      "metadata": {
        "id": "0uMUh2rAUv68"
      },
      "execution_count": null,
      "outputs": []
    }
  ]
}