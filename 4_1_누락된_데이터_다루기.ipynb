{
  "nbformat": 4,
  "nbformat_minor": 0,
  "metadata": {
    "colab": {
      "provenance": [],
      "toc_visible": true,
      "authorship_tag": "ABX9TyNXjm0K2i4QAvA8lwEZRJO4",
      "include_colab_link": true
    },
    "kernelspec": {
      "name": "python3",
      "display_name": "Python 3"
    },
    "language_info": {
      "name": "python"
    }
  },
  "cells": [
    {
      "cell_type": "markdown",
      "metadata": {
        "id": "view-in-github",
        "colab_type": "text"
      },
      "source": [
        "<a href=\"https://colab.research.google.com/github/Eungyum/scikit-learn_study/blob/main/4_1_%EB%88%84%EB%9D%BD%EB%90%9C_%EB%8D%B0%EC%9D%B4%ED%84%B0_%EB%8B%A4%EB%A3%A8%EA%B8%B0.ipynb\" target=\"_parent\"><img src=\"https://colab.research.google.com/assets/colab-badge.svg\" alt=\"Open In Colab\"/></a>"
      ]
    },
    {
      "cell_type": "markdown",
      "source": [
        "# 사이킷런 결측치 대체 모듈 impute"
      ],
      "metadata": {
        "id": "jOqCPSpbAbJg"
      }
    },
    {
      "cell_type": "markdown",
      "source": [
        "## 누락된 값 대체 : 사이킷런의 impute 모듈 사용\n",
        "\n",
        "\n",
        "\n",
        "*   SimpleImputer : 평균, 중앙값, 최빈값 등으로 결측치 대체\n",
        "*   KNNImputer : 주변 데이터 포인트의 가중 평균을 이용하여 대체\n",
        "*   IterativeImputer : 해당 변수 뿐만 아니라 다른 변수들도 사용해서 결측치를 추정\n"
      ],
      "metadata": {
        "id": "53P7w5xOAo_H"
      }
    },
    {
      "cell_type": "markdown",
      "source": [
        "\n",
        "\n",
        "---\n",
        "\n",
        "\n",
        "## 1. SimpleImputer\n",
        "\n",
        "- 재료\n",
        "  - 데이터셋(어레이)\n",
        "  - 결측치 대체 방식(평균, 중앙값 등)"
      ],
      "metadata": {
        "id": "cUpejcSpCR2x"
      }
    },
    {
      "cell_type": "code",
      "source": [
        "from sklearn.impute import SimpleImputer\n",
        "import numpy as np\n",
        "\n",
        "data = np.array([[1, 2, np.nan],\n",
        "                 [4, np.nan, 6],\n",
        "                 [7, 8, 9]])\n",
        "\n",
        "# SimpleImputer 객체를 생성 (median)\n",
        "# missing_values:결측치 인식, strategy:mean, median, most_frequent, constant( <fill_value=채울값> 과 함께 사용)\n",
        "imputer = SimpleImputer(missing_values=np.nan, strategy='mean')\n",
        "\n",
        "# fit_transform: 결측치 대체를 수행\n",
        "imputed_data = imputer.fit_transform(data)\n",
        "\n",
        "#결과를 확인\n",
        "print(\"원래 데이터:\\n\", data)\n",
        "print(\"결측값을 대체한 데이터:\\n\", imputed_data)"
      ],
      "metadata": {
        "colab": {
          "base_uri": "https://localhost:8080/"
        },
        "id": "eN8Rh6fHCd5u",
        "outputId": "c57cf23c-157c-4edc-a614-e06583880e06"
      },
      "execution_count": null,
      "outputs": [
        {
          "output_type": "stream",
          "name": "stdout",
          "text": [
            "원래 데이터:\n",
            " [[ 1.  2. nan]\n",
            " [ 4. nan  6.]\n",
            " [ 7.  8.  9.]]\n",
            "결측값을 대체한 데이터:\n",
            " [[1.  2.  7.5]\n",
            " [4.  5.  6. ]\n",
            " [7.  8.  9. ]]\n"
          ]
        }
      ]
    },
    {
      "cell_type": "markdown",
      "source": [
        "\n",
        "---\n",
        "\n",
        "\n",
        "## 2. KNNImputer\n",
        "\n",
        "- 재료\n",
        "   - 데이터셋(어레이)\n",
        "   - 이웃수(데이터 중심점) 개수"
      ],
      "metadata": {
        "id": "ERq5P-NdCVtW"
      }
    },
    {
      "cell_type": "code",
      "source": [
        "import numpy as np\n",
        "from sklearn.impute import KNNImputer\n",
        "\n",
        "data = np.array([[1, 2, np.nan],\n",
        "                 [4, np.nan, 6],\n",
        "                 [7, 8, 9]])\n",
        "\n",
        "# KNNImputer 객체를 생성(이웃수=2)\n",
        "# 이웃수를 지정하지 않으면 이웃수=5\n",
        "imputer = KNNImputer(n_neighbors=2)\n",
        "\n",
        "# fit_transform: 결측치 대체를 수행\n",
        "imputed_data = imputer.fit_transform(data)\n",
        "\n",
        "#결과를 확인\n",
        "print(\"원래 데이터:\\n\", data)\n",
        "print(\"결측값을 대체한 데이터:\\n\", imputed_data)"
      ],
      "metadata": {
        "colab": {
          "base_uri": "https://localhost:8080/"
        },
        "id": "uMY_qoNZCUB0",
        "outputId": "52785548-f050-4bbe-d0d9-2ce54e5a1e89"
      },
      "execution_count": null,
      "outputs": [
        {
          "output_type": "stream",
          "name": "stdout",
          "text": [
            "원래 데이터:\n",
            " [[ 1.  2. nan]\n",
            " [ 4. nan  6.]\n",
            " [ 7.  8.  9.]]\n",
            "결측값을 대체한 데이터:\n",
            " [[1.  2.  7.5]\n",
            " [4.  5.  6. ]\n",
            " [7.  8.  9. ]]\n"
          ]
        }
      ]
    },
    {
      "cell_type": "markdown",
      "source": [
        "\n",
        "---\n",
        "\n",
        "\n",
        "## 3. IterativeImputer\n",
        "\n",
        "- 재료\n",
        "  - 데이터셋(어레이)\n",
        "  - IterativeImputer의 옵션들..(아래)"
      ],
      "metadata": {
        "id": "mITDlQ5TCXz1"
      }
    },
    {
      "cell_type": "code",
      "source": [
        "import numpy as np\n",
        "from sklearn.experimental import enable_iterative_imputer\n",
        "from sklearn.impute import IterativeImputer\n",
        "\n",
        "data = np.array([[5.1, 3.5, 1.4, 0.2],\n",
        "       [4.9, 3. , 1.4, 0.2],\n",
        "       [4.7, 3.2, 1.3, 0.2],\n",
        "       [4.6, 3.1, np.nan, np.nan],\n",
        "       [np.nan, 3.6, 1.4, 0.2],\n",
        "       [5.4, 3.9, 1.7, 0.4],\n",
        "       [np.nan, 3.4, np.nan, 0.3],\n",
        "       [5. , 3.4, 1.5, 0.2]])\n",
        "\n",
        "# IterativeImputer 객체를 생성\n",
        "# max_iter : MICE알고리즘 최대 반복 횟수(기본값:10), random_state : 무작위성제어 시드\n",
        "# tol : 수렴 허용 오차(기본값:1e-3), n_nearest_features : 사용할 이웃 특성 수(기본값은None으로 모든 특성 사용)\n",
        "# min_value : 대체값의 최소값 제한, max_value : 대체값의 최대값 제한\n",
        "imputer = IterativeImputer(max_iter=10, random_state=0)\n",
        "\n",
        "# fit_transform: 결측치 대체를 수행.\n",
        "imputed_data = imputer.fit_transform(data)\n",
        "\n",
        "print(\"결측값을 대체한 데이터:\\n\", imputed_data[:5])"
      ],
      "metadata": {
        "colab": {
          "base_uri": "https://localhost:8080/"
        },
        "id": "VnoIbzBqCZgH",
        "outputId": "c4919025-df12-46f5-ef92-a6947511dda3"
      },
      "execution_count": null,
      "outputs": [
        {
          "output_type": "stream",
          "name": "stdout",
          "text": [
            "결측값을 대체한 데이터:\n",
            " [[5.1        3.5        1.4        0.2       ]\n",
            " [4.9        3.         1.4        0.2       ]\n",
            " [4.7        3.2        1.3        0.2       ]\n",
            " [4.6        3.1        1.25723605 0.15683881]\n",
            " [5.02779526 3.6        1.4        0.2       ]]\n"
          ]
        }
      ]
    }
  ]
}